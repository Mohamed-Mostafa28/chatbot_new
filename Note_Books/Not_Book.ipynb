{
 "cells": [
  {
   "cell_type": "code",
   "execution_count": null,
   "metadata": {},
   "outputs": [],
   "source": []
  },
  {
   "cell_type": "code",
   "execution_count": null,
   "metadata": {},
   "outputs": [],
   "source": []
  },
  {
   "cell_type": "code",
   "execution_count": null,
   "metadata": {},
   "outputs": [],
   "source": []
  },
  {
   "cell_type": "code",
   "execution_count": null,
   "metadata": {},
   "outputs": [],
   "source": []
  },
  {
   "cell_type": "code",
   "execution_count": null,
   "metadata": {},
   "outputs": [],
   "source": []
  },
  {
   "cell_type": "code",
   "execution_count": null,
   "metadata": {},
   "outputs": [],
   "source": []
  },
  {
   "cell_type": "code",
   "execution_count": null,
   "metadata": {},
   "outputs": [],
   "source": []
  },
  {
   "cell_type": "code",
   "execution_count": null,
   "metadata": {},
   "outputs": [],
   "source": []
  },
  {
   "cell_type": "code",
   "execution_count": 7,
   "metadata": {},
   "outputs": [
    {
     "name": "stdout",
     "output_type": "stream",
     "text": [
      "xxxxx model xxxxx\n"
     ]
    }
   ],
   "source": [
    "\n",
    "from langchain.prompts import PromptTemplate\n",
    "from langchain.chains import LLMChain\n",
    "# from model import LLM_Model\n",
    "from dotenv import load_dotenv\n",
    "from langchain_groq import ChatGroq\n",
    "import os\n",
    "\n",
    "# Set your Groq API key\n",
    "api=os.getenv(\"Groq_API_key\")\n",
    "# Load model\n",
    "LLM_Model = ChatGroq(\n",
    "                    model=\"llama-3.1-70b-versatile\",\n",
    "                    groq_api_key=api,\n",
    "                    max_tokens=500,\n",
    "                    temperature=0.1,\n",
    "                )\n",
    "print(\"xxxxx model xxxxx\")\n",
    "\n",
    "\n",
    "# main conversation\n",
    "from langchain.schema import SystemMessage,HumanMessage,AIMessage  \n",
    "\n",
    "\n",
    "\n",
    "# SystemMessage = SystemMessage(content=\"You are an assistant chatbot. Ask the customer about his name and age.\")\n",
    "SystemMessage = SystemMessage(content=\"You are helper bot, you want to ask me some things to find out my name and age and phone number\")\n",
    "AIMessage = AIMessage(content=\"I'd love to get to know you better. To start, could you please tell me your name? It's nice to have a name to associate with our conversation.\")\n",
    "HumanMessage = HumanMessage(content=\"can you tell who amircan presdint\")\n",
    "\n",
    "all_conversation = [\n",
    "    SystemMessage,\n",
    "    AIMessage,\n",
    "    HumanMessage\n",
    "]\n",
    "# response = LLM_Model(all_conversation)"
   ]
  },
  {
   "cell_type": "code",
   "execution_count": 8,
   "metadata": {},
   "outputs": [],
   "source": [
    "from langchain.schema import SystemMessage,HumanMessage,AIMessage \n",
    "\n",
    "\n",
    "def CreateSystemMessage(text:str):\n",
    "    Message = SystemMessage(content = text)\n",
    "    return Message\n",
    "\n",
    "def CreateAIMessage(text:str):\n",
    "    Message = AIMessage(content = text)\n",
    "    return Message\n",
    "\n",
    "def CreateHumanMessage(text:str):\n",
    "    Message = HumanMessage(content = text)\n",
    "    return Message\n",
    "    \n",
    "    "
   ]
  },
  {
   "cell_type": "code",
   "execution_count": 9,
   "metadata": {},
   "outputs": [],
   "source": [
    "Conversation = []\n",
    "\n",
    "SystemMessage = CreateSystemMessage(text=\"You are helper bot, you want to ask me some things to find out my name and age and phone number\")\n",
    "AIMessage = CreateAIMessage(text=\"I'd love to get to know you better. To start, could you please tell me your name? It's nice to have a name to associate with our conversation.\")\n",
    "HumanMessage = CreateHumanMessage(text=\"can you tell who amircan presdint\")\n"
   ]
  },
  {
   "cell_type": "code",
   "execution_count": 13,
   "metadata": {},
   "outputs": [
    {
     "name": "stdout",
     "output_type": "stream",
     "text": [
      "content=\"I'd love to get to know you better. To start, could you please tell me your name? It's nice to have a name to associate with our conversation.\" additional_kwargs={} response_metadata={'token_usage': {'completion_tokens': 35, 'prompt_tokens': 52, 'total_tokens': 87, 'completion_time': 0.14, 'prompt_time': 0.011951194, 'queue_time': 0.005003385000000001, 'total_time': 0.151951194}, 'model_name': 'llama-3.1-70b-versatile', 'system_fingerprint': 'fp_5c5d1b5cfb', 'finish_reason': 'stop', 'logprobs': None} id='run-fa31288b-97fb-49f7-8df8-9a5d17dc1b40-0' usage_metadata={'input_tokens': 52, 'output_tokens': 35, 'total_tokens': 87}\n"
     ]
    }
   ],
   "source": [
    "Conversation=[]\n",
    "Conversation.append(SystemMessage)\n",
    "response = LLM_Model(Conversation)\n",
    "print(response)"
   ]
  },
  {
   "cell_type": "code",
   "execution_count": 14,
   "metadata": {},
   "outputs": [
    {
     "data": {
      "text/plain": [
       "[SystemMessage(content='You are helper bot, you want to ask me some things to find out my name and age and phone number', additional_kwargs={}, response_metadata={})]"
      ]
     },
     "execution_count": 14,
     "metadata": {},
     "output_type": "execute_result"
    }
   ],
   "source": [
    "Conversation"
   ]
  },
  {
   "cell_type": "code",
   "execution_count": 15,
   "metadata": {},
   "outputs": [
    {
     "name": "stdout",
     "output_type": "stream",
     "text": [
      "content='As of my knowledge cutoff in 2023, the President of the United States is Joe Biden. However, please note that this information might have changed since my knowledge cutoff.\\n\\nBy the way, I was hoping to get to know you better. Would you mind telling me your name?' additional_kwargs={} response_metadata={'token_usage': {'completion_tokens': 58, 'prompt_tokens': 67, 'total_tokens': 125, 'completion_time': 0.232, 'prompt_time': 0.0177723, 'queue_time': 0.004967659999999999, 'total_time': 0.2497723}, 'model_name': 'llama-3.1-70b-versatile', 'system_fingerprint': 'fp_b3ae7e594e', 'finish_reason': 'stop', 'logprobs': None} id='run-a3c1fadb-d2ef-482c-ada7-fc4a83e270a8-0' usage_metadata={'input_tokens': 67, 'output_tokens': 58, 'total_tokens': 125}\n"
     ]
    }
   ],
   "source": [
    "Conversation.append(HumanMessage)\n",
    "response = LLM_Model(Conversation)\n",
    "print(response)"
   ]
  },
  {
   "cell_type": "code",
   "execution_count": 16,
   "metadata": {},
   "outputs": [
    {
     "data": {
      "text/plain": [
       "[SystemMessage(content='You are helper bot, you want to ask me some things to find out my name and age and phone number', additional_kwargs={}, response_metadata={}),\n",
       " HumanMessage(content='can you tell who amircan presdint', additional_kwargs={}, response_metadata={})]"
      ]
     },
     "execution_count": 16,
     "metadata": {},
     "output_type": "execute_result"
    }
   ],
   "source": [
    "Conversation"
   ]
  },
  {
   "cell_type": "code",
   "execution_count": null,
   "metadata": {},
   "outputs": [],
   "source": []
  },
  {
   "cell_type": "code",
   "execution_count": null,
   "metadata": {},
   "outputs": [],
   "source": []
  },
  {
   "cell_type": "code",
   "execution_count": null,
   "metadata": {},
   "outputs": [],
   "source": []
  },
  {
   "cell_type": "code",
   "execution_count": null,
   "metadata": {},
   "outputs": [],
   "source": []
  },
  {
   "cell_type": "code",
   "execution_count": null,
   "metadata": {},
   "outputs": [],
   "source": []
  },
  {
   "cell_type": "code",
   "execution_count": null,
   "metadata": {},
   "outputs": [],
   "source": [
    "# Social Hx:\n",
    "#     Smoking: 1 pack/day for 40 years.\n",
    "#     Drinking: 2/day\n",
    "#     Drugs: Cannabis edibles daily \n",
    "#     Diet: No restriction\n",
    "#     Family: Married, 2 children, 10 grandchildren"
   ]
  },
  {
   "cell_type": "code",
   "execution_count": null,
   "metadata": {},
   "outputs": [],
   "source": [
    "# Social_question = \"\"\"\n",
    "#     you are a helper chatbot and you want to ask me some questions and and you want to get some detatiels about each question and try to convince me and ask me agian and each question in one senetence and when you get all information try to close this conversation\n",
    "#     Q1: ask about if i'm Smoking\n",
    "    \n",
    "#     \"\"\""
   ]
  },
  {
   "cell_type": "code",
   "execution_count": null,
   "metadata": {},
   "outputs": [],
   "source": [
    " \n",
    "#-------------------------------------------------------------------------------  \n",
    "# that was very good prompts\n",
    "# Q1 = \"\"\"\n",
    "# You are a helper chatbot. Your task is to ask me about my smoking habits, gathering detailed information step by step. Begin by asking if I currently smoke or have ever smoked. Depending on my response, follow up with additional questions, one at a time, to collect details such as how many packs per day, how long I have been smoking, and if I've quit, how many years ago I stopped. Be polite and persuasive, explaining why each piece of information is important, but do not deviate from the task. Once all information is gathered, politely close the conversation.\n",
    "#     \"\"\"\n",
    "#-------------------------------------------------------------------------------\n",
    "# personalSystemMessage_text = \"You are helper bot, you want to ask me some questions to find out my name and age and phone number and try to convince me and ask me agian and each question in one senetence and when you get all information try to close this conversation\"\n",
    "#-------------------------------------------------------------------------------\n",
    "# Social_questionssssss = \"\"\"\n",
    "#     you are a helper chatbot and you want to ask me some questions and you want to get some detatiels about each question and try to convince me to answer this qurestion and ask me agian and each question in one senetence and when you get all information try to close this conversation\n",
    "#     Q1: ask about if i'm Smoking?.\n",
    "#     \"\"\"\n",
    "#-------------------------------------------------------------------------------\n",
    "\n"
   ]
  },
  {
   "cell_type": "code",
   "execution_count": null,
   "metadata": {},
   "outputs": [],
   "source": [
    "mediSystemMessage_text = \"\"\"\n",
    "    \"You are an assistant designed to gather comprehensive medical history and lifestyle information from patients. Ask the following questions one by one to the user in one sentence, and ensure the responses are clear and complete. Use appropriate follow-up questions if the answer is unclear or incomplete. The questions you need to ask are as follows:\n",
    "\n",
    "    Code Status: Ask the patient about their code status (e.g., Full Code, DNR).\n",
    "    Past Medical History: Request a list of any previous medical conditions the patient has had (e.g., diabetes, hypertension, asthma).\n",
    "    Past Surgical History: Ask the patient about any surgeries they have undergone.\n",
    "    Current Medications: Inquire about the medications the patient is currently taking.\n",
    "    Allergies: Ask if the patient has any known drug or environmental allergies.\n",
    "    History of Present Illness: Get a detailed account of the patient's current symptoms or medical issues.\n",
    "    Smoking Habits: Ask if the patient smokes, and if so, how much.\n",
    "    Drinking Habits: Inquire about the patient's alcohol consumption habits.\n",
    "    Recreational Drug Use: Ask the patient if they use any recreational drugs.\n",
    "    Dietary Habits: Get details about the patient’s eating habits or diet.\n",
    "    Be polite, empathetic, and concise. Ensure the user understands each question and the type of information needed.\"\n",
    "\n",
    "    \"\"\"\n",
    "#---------------------------------------------------------------------------\n",
    "#---------------------------------------------------------------------------\n",
    "#---------------------------------------------------------------------------\n",
    "Question1 = \"Smoking Habits: 'Do you currently smoke, or have you ever smoked? If yes, please share how many packs per day, how long you have been smoking, and if you've quit, how many years ago you stopped. This is important as smoking can impact your overall health.'\"\n",
    "Question2 = \"Drinking Habits: 'Do you drink alcohol? If yes, could you provide details on how often and how much? Understanding your alcohol consumption helps assess certain health risks.'\"\n",
    "Question3 = \"Recreational Drug Use: 'Do you use any recreational drugs? If yes, please specify which ones and how frequently. This information is vital for understanding your overall well-being.'\"\n",
    "Question4 = \"Dietary Habits: 'Can you describe your eating habits or diet? For instance, do you follow any particular diet or have any dietary restrictions? Your diet plays a key role in your health.'\"\n",
    "Question5 = \"Family: 'Are you married? If yes, do you have children? If yes, how many? Do you have grandchildren? If yes, how many?'\"\n",
    "# Question6 = \"Exercise Habits: 'Do you exercise regularly? If so, how often and what kind of activities do you engage in? Physical activity is crucial for maintaining a healthy lifestyle.'\"\n",
    "\n",
    "All_Questions = f\"\"\"\n",
    "    You are a helpful and polite chatbot and you can imagine my name and my age and my gender to start this chat message.\n",
    "    Your task is to ask me a series of specific questions one at a time and without adding any extra comments,\n",
    "    gathering detailed information for each one step by step as break down the question to many Depending on my response.\n",
    "    You should not ask any additional or unrelated questions.\n",
    "    Be empathetic and polite with your response each one,\n",
    "    and only move on to the next question after I have answered the current one.\n",
    "    After gathering all the information, close the conversation.\n",
    "\n",
    "    The questions you need to ask, in order, are:\n",
    "\n",
    "    1. {Question1}\n",
    "    1. {Question2}\n",
    "    1. {Question3}\n",
    "    1. {Question4}\n",
    "    1. {Question5}\n",
    " \n",
    "\n",
    "\n",
    "    Once all the questions are answered, politely thank me and close the conversation.\n",
    "\"\"\"\n",
    "\n",
    "  \n",
    " \n",
    " \n",
    " \n",
    " \n",
    " \n",
    " \n",
    "#---------------------------------------------------------------------------\n",
    "#---------------------------------------------------------------------------\n",
    "#---------------------------------------------------------------------------\n",
    "Question1 = \"Smoking Habits: 'Do you currently smoke, or have you ever smoked? If yes, please share how many packs per day, how long you have been smoking, and if you've quit, how many years ago you stopped. This is important as smoking can impact your overall health.'\"\n",
    "\n",
    "Question2 = \"Drinking Habits: 'Do you currently drink alcohol, or have you ever consumed alcohol? If yes, please provide details on how often you drink (e.g., daily, weekly, occasionally), how much you typically drink in one sitting, and how long you have been drinking. If you've quit, how many years ago did you stop? This information helps assess the impact of alcohol on your health.'\"\n",
    "\n",
    "Question3 = \"Recreational Drug Use: 'Do you currently use any recreational drugs, or have you ever used recreational drugs? If yes, please specify which substances you use, how frequently you use them (e.g., daily, weekly, occasionally), and how long you have been using them. If you’ve stopped, how long ago did you quit? This information is vital for understanding your overall well-being and any potential health risks.'\"\n",
    "\n",
    "Question4 = \"Dietary Habits: 'Can you describe your current eating habits or diet? Do you follow any specific diet (e.g., vegetarian, keto, low-carb), and if so, for how long have you been following it? Are there any foods you avoid or are allergic to? Additionally, how often do you eat meals or snacks in a day? Your diet plays a key role in your overall health and nutrition.'\"\n",
    "\n",
    "Question5 = \"Family: 'Are you married? If yes, do you have children? If yes, how many? Do you have grandchildren? If yes, how many?'\"\n",
    "# Question6 = \"Exercise Habits: 'Do you exercise regularly? If so, how often and what kind of activities do you engage in? Physical activity is crucial for maintaining a healthy lifestyle.'\"\n",
    "\n",
    "All_QuestionsWithAllDataWithoutComments = f\"\"\"\n",
    " \n",
    "    \n",
    "    You are a helpful and polite chatbot and you can imagine my name and my age and my gender to start this chat message.\n",
    "    Your task is to ask me a series of specific questions one at a time and without adding any extra comments,\n",
    "    gathering detailed information for each one step by step as break down the question to many Depending on my response.\n",
    "    You should not ask any additional or unrelated questions.\n",
    "    Be empathetic and polite with your response each one,\n",
    "    and only move on to the next question after I have answered the current one.\n",
    "    After gathering all the information, close the conversation.\n",
    "\n",
    "    The questions you need to ask, in order, are:\n",
    "\n",
    "    1. {Question1}\n",
    "    1. {Question2}\n",
    "    1. {Question3}\n",
    "    1. {Question4}\n",
    "    1. {Question5}\n",
    " \n",
    "\n",
    "\n",
    "    Once all the questions are answered and  you get all information, politely thank me and close the conversation.\n",
    "\"\"\"\n",
    "\n",
    "\n",
    "\n"
   ]
  },
  {
   "cell_type": "code",
   "execution_count": null,
   "metadata": {},
   "outputs": [],
   "source": [
    "    \n",
    "#---------------------------------------------------------------------------\n",
    "#---------------------------------------------------------------------------\n",
    "#---------------------------------------------------------------------------\n",
    "Question1 = \"Smoking Habits: 'Do you currently smoke, or have you ever smoked? If yes, please share how many packs per day, how long you have been smoking, and if you've quit, how many years ago you stopped. This is important as smoking can impact your overall health.'\"\n",
    "\n",
    "Question2 = \"Drinking Habits: 'Do you currently drink alcohol, or have you ever consumed alcohol? If yes, please provide details on how often you drink (e.g., daily, weekly, occasionally), how much you typically drink in one sitting, and how long you have been drinking. If you've quit, how many years ago did you stop? This information helps assess the impact of alcohol on your health.'\"\n",
    "\n",
    "Question3 = \"Recreational Drug Use: 'Do you currently use any recreational drugs, or have you ever used recreational drugs? If yes, please specify which substances you use, how frequently you use them (e.g., daily, weekly, occasionally), and how long you have been using them. If you’ve stopped, how long ago did you quit? This information is vital for understanding your overall well-being and any potential health risks.'\"\n",
    "\n",
    "Question4 = \"Dietary Habits: 'Can you describe your current eating habits or diet? Do you follow any specific diet (e.g., vegetarian, keto, low-carb), and if so, for how long have you been following it? Are there any foods you avoid or are allergic to? Additionally, how often do you eat meals or snacks in a day? Your diet plays a key role in your overall health and nutrition.'\"\n",
    "\n",
    "Question5 = \"Family: 'Are you married? If yes, do you have children? If yes, how many? Do you have grandchildren? If yes, how many?'\"\n",
    "# Question6 = \"Exercise Habits: 'Do you exercise regularly? If so, how often and what kind of activities do you engage in? Physical activity is crucial for maintaining a healthy lifestyle.'\"\n",
    "\n",
    "All_QuestionsWithAllDataWithComments = f\"\"\"\n",
    " \n",
    "    You are a helpful and polite chatbot and you can imagine my name and my age and my gender to start this chat message.\n",
    "    Your task is to ask me a series of specific questions one at a time,\n",
    "    gathering detailed information for each one step by step as break down the question to many Depending on my response.\n",
    "    You should not ask any additional or unrelated questions.\n",
    "    Be empathetic and polite with your response each one,\n",
    "    and only move on to the next question after I have answered the current one.\n",
    "    After gathering all the information, close the conversation.\n",
    "\n",
    "\n",
    "    The questions you need to ask, in order, are:\n",
    "\n",
    "    1. {Question1}\n",
    "    1. {Question2}\n",
    "    1. {Question3}\n",
    "    1. {Question4}\n",
    "    1. {Question5}\n",
    " \n",
    "\n",
    "\n",
    "    Once all the questions are answered and  you get all information, politely thank me and close the conversation.\n",
    "\"\"\"\n",
    "\n",
    "\n"
   ]
  },
  {
   "cell_type": "code",
   "execution_count": null,
   "metadata": {},
   "outputs": [],
   "source": [
    "<!DOCTYPE html>\n",
    "<html lang=\"en\">\n",
    "<head>\n",
    "    <meta charset=\"UTF-8\">\n",
    "    <meta name=\"viewport\" content=\"width=device-width, initial-scale=1.0\">\n",
    "    <title>Medical Chatbot</title>\n",
    "\n",
    "    <!-- Google Fonts -->\n",
    "    <link href=\"https://fonts.googleapis.com/css2?family=Roboto:wght@400;500&display=swap\" rel=\"stylesheet\">\n",
    "    \n",
    "    <!-- Font Awesome CDN -->\n",
    "    <link rel=\"stylesheet\" href=\"https://cdnjs.cloudflare.com/ajax/libs/font-awesome/6.0.0-beta3/css/all.min.css\">\n",
    "\n",
    "    <!-- External CSS -->\n",
    "    <link rel=\"stylesheet\" href=\"static/styles.css\">\n",
    "</head>\n",
    "<body>\n",
    "    <div class=\"container\">\n",
    "        <div class=\"chat-container\">\n",
    "\n",
    "            <!-- Chat Box -->\n",
    "            <div id=\"chat-box\"></div>\n",
    "\n",
    "            <!-- Fixed Input Area -->\n",
    "            <div class=\"input-area\">\n",
    "                <button id=\"clear-btn\" title=\"Clear Chat\"><i class=\"fas fa-trash-alt\"></i></button>\n",
    "                <form id=\"chat-form\" style=\"flex-grow: 1; display: flex;\">\n",
    "                    <input type=\"text\" name=\"user_input\" id=\"user_input\" placeholder=\"Type your message here...\" required>\n",
    "                    <button type=\"submit\" id=\"send-btn\" title=\"Send Message\"><i class=\"fas fa-paper-plane\"></i></button>\n",
    "                </form>\n",
    "            </div>\n",
    "        </div>\n",
    "    </div>\n",
    "\n",
    "    <!-- jQuery Script -->\n",
    "    <script src=\"https://code.jquery.com/jquery-3.6.0.min.js\"></script>\n",
    "\n",
    "    <script>\n",
    "        $(document).ready(function() {\n",
    "            // Handle chat form submission\n",
    "            $('#chat-form').on('submit', function(event) {\n",
    "                event.preventDefault();\n",
    "                var user_input = $('#user_input').val();\n",
    "                if (user_input) {\n",
    "                    $.post('/chat', { user_input: user_input }, function(response) {\n",
    "                        response.messages.forEach(function(msg) {\n",
    "                            var cssClass = msg.startsWith(\"You:\") ? 'user-message' : 'bot-message';\n",
    "                            $('#chat-box').append('<div class=\"' + cssClass + '\">' + msg + '</div>');\n",
    "                        });\n",
    "                        $('#user_input').val(''); // Clear input after sending\n",
    "                        $('#chat-box').scrollTop($('#chat-box')[0].scrollHeight); // Scroll to the latest message\n",
    "                    });\n",
    "                }\n",
    "            });\n",
    "\n",
    "            // Handle clear chat button\n",
    "            $('#clear-btn').on('click', function() {\n",
    "                $.post('/clear', {}, function(response) {\n",
    "                    $('#chat-box').empty();\n",
    "                });\n",
    "            });\n",
    "        });\n",
    "    </script>\n",
    "</body>\n",
    "</html>\n"
   ]
  },
  {
   "cell_type": "code",
   "execution_count": null,
   "metadata": {},
   "outputs": [],
   "source": [
    "body {\n",
    "    font-family: 'Roboto', sans-serif;\n",
    "    background-color: #121422; /* Dark background for the whole page */\n",
    "    margin: 0;\n",
    "    padding-bottom: 100px; /* Add padding to avoid content behind the fixed input */\n",
    "    color: #333; /* Dark text color for readability */\n",
    "}\n",
    "\n",
    ".container {\n",
    "    max-width: 1000px;\n",
    "    margin: auto;\n",
    "    position: relative; /* Allows absolute positioning of input area */\n",
    "}\n",
    "\n",
    ".chat-container {\n",
    "    background-color: #121422; /* Dark background for the chat container */\n",
    "    border-radius: 10px;\n",
    "    padding: 20px;\n",
    "    height: 80vh; /* Full height */\n",
    "    box-shadow: 0 4px 20px rgba(0, 0, 0, 0.1); /* Light shadow for depth */\n",
    "}\n",
    "\n",
    "#chat-box {\n",
    "    height: 85vh; /* Height of chat area */\n",
    "    /* width: auto; */\n",
    "    overflow-y: auto; /* Scrollable area */\n",
    "    padding: 10px;\n",
    "    border: 1px solid #121422; /* Border around the chat box */\n",
    "    background-color: #000000bb; /* Dark background for chat box */\n",
    "}\n",
    "\n",
    "/* User and bot messages */\n",
    ".user-message {\n",
    "    background-color: #010101; /* Dark background for user messages */\n",
    "    color: #ffffff; /* White text for user messages */\n",
    "    padding: 10px;\n",
    "    border-radius: 10px;\n",
    "    margin: 10px 0;\n",
    "    text-align: left;\n",
    "}\n",
    "\n",
    ".bot-message {\n",
    "    background-color: #807f7f; /* Light gray background for bot messages */\n",
    "    color: #ffffff; /* White text for bot messages */\n",
    "    padding: 10px;\n",
    "    border-radius: 10px;\n",
    "    margin: 10px 0;\n",
    "    text-align: left;\n",
    "}\n",
    "\n",
    "/* Input area */\n",
    ".input-area {\n",
    "    position: fixed;\n",
    "    bottom: 0;\n",
    "    left: 0;\n",
    "    right: 0;\n",
    "    background-color: #121422; /* Dark background for input area */\n",
    "    padding: 15px;\n",
    "    display: flex; /* Use flexbox for alignment */\n",
    "    align-items: center; /* Align items vertically */\n",
    "}\n",
    "\n",
    "button {\n",
    "    background: none; /* No background */\n",
    "    border: none; /* No border */\n",
    "    color: #ffffff; /* Icon color */\n",
    "    font-size: 20px; /* Icon size */\n",
    "    cursor: pointer;\n",
    "    padding: 10px; /* Padding around icons */\n",
    "}\n",
    "\n",
    "button:hover {\n",
    "    color: #0078D7; /* Change color on hover */\n",
    "}\n",
    "\n",
    "#user_input {\n",
    "    padding: 15px;\n",
    "    font-size: 16px;\n",
    "    color: #ffffff; /* Text color in input field */\n",
    "    background-color: #000000; /* Dark background for input field */\n",
    "    border: 1px solid #000000; /* Dark border around the input field */\n",
    "    border-radius: 5px; /* Slightly rounded corners */\n",
    "    width: 90%; /* Width of the input field */\n",
    "    /* margin: 10 10px; Space between input and buttons */\n",
    "    margin-left: auto;\n",
    "    margin-right: auto;\n",
    "}\n"
   ]
  },
  {
   "cell_type": "code",
   "execution_count": null,
   "metadata": {},
   "outputs": [],
   "source": []
  },
  {
   "cell_type": "code",
   "execution_count": null,
   "metadata": {},
   "outputs": [],
   "source": []
  }
 ],
 "metadata": {
  "kernelspec": {
   "display_name": "chatbot_env",
   "language": "python",
   "name": "python3"
  },
  "language_info": {
   "codemirror_mode": {
    "name": "ipython",
    "version": 3
   },
   "file_extension": ".py",
   "mimetype": "text/x-python",
   "name": "python",
   "nbconvert_exporter": "python",
   "pygments_lexer": "ipython3",
   "version": "3.11.5"
  }
 },
 "nbformat": 4,
 "nbformat_minor": 2
}
